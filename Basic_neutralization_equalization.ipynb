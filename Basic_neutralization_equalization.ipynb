{
 "cells": [
  {
   "cell_type": "code",
   "execution_count": 3,
   "metadata": {},
   "outputs": [],
   "source": [
    "import numpy as np\n",
    "import pandas as pd\n",
    "import spacy\n",
    "nlp = spacy.load('en_core_web_lg')\n",
    "\n",
    "import matplotlib.pyplot as plt\n",
    "%matplotlib inline\n",
    "import seaborn as sns\n",
    "\n",
    "from sklearn.decomposition import PCA"
   ]
  },
  {
   "cell_type": "code",
   "execution_count": 4,
   "metadata": {},
   "outputs": [],
   "source": [
    "def cosine_similarity(u,v):\n",
    "    return np.dot(u,v)/(np.linalg.norm(u)*np.linalg.norm(v))\n",
    "\n",
    "def get_vector(w):\n",
    "    return nlp(w).vector\n",
    "\n",
    "\n",
    "def neutralize(word, g, model):\n",
    "    \n",
    "    e = get_vector(word)\n",
    "    e_biascomponent = np.dot(e, g)/(np.linalg.norm(g)**2) *g\n",
    "    e_debiased = e - e_biascomponent\n",
    " \n",
    "    return e_debiased\n",
    "\n",
    "def equalize(pair, bias_axis, model):\n",
    "    \n",
    "    w1, w2 = pair\n",
    "    e_w1, e_w2 = get_vector(w1), get_vector(w2)\n",
    "    \n",
    "    mu = (e_w1 + e_w2)/2\n",
    "\n",
    "    mu_B = np.dot(mu, bias_axis)/np.linalg.norm(bias_axis)**2 * bias_axis\n",
    "    mu_orth = mu - mu_B\n",
    "\n",
    "    e_w1B = np.dot(e_w1, bias_axis)/np.linalg.norm(bias_axis)**2 * bias_axis\n",
    "    e_w2B = np.dot(e_w2, bias_axis)/np.linalg.norm(bias_axis)**2 * bias_axis\n",
    "        \n",
    "    corrected_e_w1B = np.sqrt(np.abs(1 - np.linalg.norm(mu_orth)**2))*(e_w1B - mu_B)\\\n",
    "    /np.linalg.norm(e_w1 - mu_orth - mu_B)\n",
    "    corrected_e_w2B = np.sqrt(np.abs(1 - np.linalg.norm(mu_orth)**2))*(e_w2B - mu_B)\\\n",
    "    /np.linalg.norm(e_w2 - mu_orth - mu_B)\n",
    "\n",
    "    e1 = corrected_e_w1B + mu_orth\n",
    "    e2 = corrected_e_w2B + mu_orth\n",
    "    \n",
    "    return e1, e2"
   ]
  },
  {
   "cell_type": "code",
   "execution_count": 34,
   "metadata": {},
   "outputs": [],
   "source": [
    "# Reduce the 300-dimensional data to 2D for plotting purposes\n",
    "def plot_2d(words, word_vectors): \n",
    "    \n",
    "    pca = PCA(n_components = 2)\n",
    "    pca.fit(word_vectors)\n",
    "    \n",
    "    word_vecs_2d = pca.transform(word_vectors)\n",
    "    \n",
    "    plt.figure(figsize=(10,10))\n",
    "\n",
    "    plt.scatter(word_vecs_2d[:,0], word_vecs_2d[:,1],color='r',marker='o',alpha=.5)\n",
    "\n",
    "    for word, coord in zip(words, word_vecs_2d):\n",
    "        x, y = coord\n",
    "        plt.text(x, y, word, size = 10)"
   ]
  },
  {
   "cell_type": "code",
   "execution_count": 35,
   "metadata": {},
   "outputs": [
    {
     "data": {
      "image/png": "[encoded data removed]",
      "text/plain": [
       "<Figure size 720x720 with 1 Axes>"
      ]
     },
     "metadata": {},
     "output_type": "display_data"
    }
   ],
   "source": [
    "words = ['car','truck','plane','boat','motorcyle','apple','orange','banana','grape','kiwi',\\\n",
    "        'man','woman','he','she','girl','boy','football','cricket','rugby','tennis','swimming']\n",
    "word_vectors = []\n",
    "for w in words:\n",
    "    word_vectors.append(get_vector(w))\n",
    "    \n",
    "plot_2d(words,word_vectors)"
   ]
  },
  {
   "cell_type": "code",
   "execution_count": 8,
   "metadata": {},
   "outputs": [],
   "source": [
    "g = get_vector('woman') - get_vector('man') # gender (bias) axis"
   ]
  },
  {
   "cell_type": "markdown",
   "metadata": {},
   "source": [
    "### Neutralizing non-gender specific words"
   ]
  },
  {
   "cell_type": "code",
   "execution_count": 10,
   "metadata": {},
   "outputs": [
    {
     "name": "stdout",
     "output_type": "stream",
     "text": [
      "Profession, Gender similarity\n",
      "doctor 0.16575728\n",
      "architect -0.062278565\n",
      "nurse 0.33493137\n",
      "astronaut 0.07315138\n",
      "astrophysicist -0.009591946\n",
      "receptionist 0.2427326\n",
      "soldier -0.04065294\n",
      "professor 0.03045431\n",
      "teacher 0.13410613\n",
      "pianist 0.026752872\n"
     ]
    }
   ],
   "source": [
    "# Before debiasing\n",
    "words = ['doctor','architect','nurse','astronaut','astrophysicist','receptionist','soldier',\\\n",
    "        'professor','teacher','pianist']\n",
    "print(\"Profession, Gender similarity\")\n",
    "for w in words:\n",
    "    print (w, cosine_similarity(get_vector(w), g))"
   ]
  },
  {
   "cell_type": "code",
   "execution_count": 12,
   "metadata": {},
   "outputs": [
    {
     "name": "stdout",
     "output_type": "stream",
     "text": [
      "doctor -1.2160161e-08\n",
      "architect -5.726421e-09\n",
      "nurse 1.4314909e-08\n",
      "astronaut -4.0307175e-09\n",
      "astrophysicist 5.693421e-09\n",
      "receptionist -2.2325555e-08\n",
      "soldier -4.8717768e-09\n",
      "professor 3.6760666e-09\n",
      "teacher -6.6170225e-09\n",
      "pianist 3.787074e-09\n"
     ]
    }
   ],
   "source": [
    "# After debiasing\n",
    "for w in words:\n",
    "    print(w, cosine_similarity(neutralize(w,g,nlp),g))"
   ]
  },
  {
   "cell_type": "code",
   "execution_count": 28,
   "metadata": {},
   "outputs": [
    {
     "name": "stdout",
     "output_type": "stream",
     "text": [
      "cosine similarities before equalizing:\n",
      "cosine_similarity('father', gender) =  -0.015650634\n",
      "cosine_similarity('mother', gender) =  0.32043645\n",
      "\n",
      "cosine similarities after equalizing:\n",
      "cosine_similarity(e1, gender) =  -0.49341944\n",
      "cosine_similarity(e2, gender) =  0.49341944\n"
     ]
    }
   ],
   "source": [
    "print(\"cosine similarities before equalizing:\")\n",
    "print(\"cosine_similarity('father', gender) = \", cosine_similarity(get_vector('father'), g))\n",
    "print(\"cosine_similarity('mother', gender) = \", cosine_similarity(get_vector('mother'), g))\n",
    "print()\n",
    "e1, e2 = equalize((\"father\", \"mother\"), g, nlp)\n",
    "print(\"cosine similarities after equalizing:\")\n",
    "print(\"cosine_similarity(e1, gender) = \", cosine_similarity(e1, g))\n",
    "print(\"cosine_similarity(e2, gender) = \", cosine_similarity(e2, g))"
   ]
  },
  {
   "cell_type": "code",
   "execution_count": 18,
   "metadata": {},
   "outputs": [],
   "source": [
    "g2 = ((get_vector('woman')-get_vector('man')) + (get_vector('she') - get_vector('he')))/2"
   ]
  },
  {
   "cell_type": "code",
   "execution_count": 19,
   "metadata": {},
   "outputs": [
    {
     "name": "stdout",
     "output_type": "stream",
     "text": [
      "Profession, Gender similarity\n",
      "doctor 0.15333293\n",
      "architect -0.11637911\n",
      "nurse 0.3635395\n",
      "astronaut 0.05343285\n",
      "astrophysicist -0.026598658\n",
      "receptionist 0.25424922\n",
      "soldier -0.07420897\n",
      "professor 0.022193832\n",
      "teacher 0.15484932\n",
      "pianist 0.021142859\n"
     ]
    }
   ],
   "source": [
    "# Before debiasing\n",
    "words = ['doctor','architect','nurse','astronaut','astrophysicist','receptionist','soldier',\\\n",
    "        'professor','teacher','pianist']\n",
    "print(\"Profession, Gender similarity\")\n",
    "for w in words:\n",
    "    print (w, cosine_similarity(get_vector(w), g2))"
   ]
  },
  {
   "cell_type": "code",
   "execution_count": 21,
   "metadata": {},
   "outputs": [
    {
     "name": "stdout",
     "output_type": "stream",
     "text": [
      "doctor -6.275508e-11\n",
      "architect 1.2872662e-08\n",
      "nurse -1.6679582e-08\n",
      "astronaut -4.4630775e-09\n",
      "astrophysicist 3.1731517e-09\n",
      "receptionist -1.991344e-08\n",
      "soldier 7.884939e-09\n",
      "professor 5.165166e-09\n",
      "teacher -3.3211e-09\n",
      "pianist -8.029965e-09\n"
     ]
    }
   ],
   "source": [
    "# After debiasing\n",
    "for w in words:\n",
    "    print(w, cosine_similarity(neutralize(w,g2,nlp),g2))"
   ]
  },
  {
   "cell_type": "code",
   "execution_count": 25,
   "metadata": {},
   "outputs": [],
   "source": [
    "g5 = ((get_vector('woman')-get_vector('man')) + (get_vector('she') - get_vector('he')) \\\n",
    "      + (get_vector('her') - get_vector('his')) + (get_vector('girl') - get_vector('boy')) + \\\n",
    "     (get_vector('female') - get_vector('male')))/5"
   ]
  },
  {
   "cell_type": "code",
   "execution_count": 26,
   "metadata": {},
   "outputs": [
    {
     "name": "stdout",
     "output_type": "stream",
     "text": [
      "Profession, Gender similarity\n",
      "doctor 0.10746965\n",
      "architect -0.13924581\n",
      "nurse 0.35092363\n",
      "astronaut 0.029756181\n",
      "astrophysicist -0.012247718\n",
      "receptionist 0.25623095\n",
      "soldier -0.09917962\n",
      "professor 0.012647088\n",
      "teacher 0.16289642\n",
      "pianist 0.013357573\n"
     ]
    }
   ],
   "source": [
    "# Before debiasing\n",
    "words = ['doctor','architect','nurse','astronaut','astrophysicist','receptionist','soldier',\\\n",
    "        'professor','teacher','pianist']\n",
    "print(\"Profession, Gender similarity\")\n",
    "for w in words:\n",
    "    print (w, cosine_similarity(get_vector(w), g5))"
   ]
  },
  {
   "cell_type": "code",
   "execution_count": 27,
   "metadata": {},
   "outputs": [
    {
     "name": "stdout",
     "output_type": "stream",
     "text": [
      "doctor -4.9429e-09\n",
      "architect -3.611294e-08\n",
      "nurse 3.626432e-08\n",
      "astronaut 3.784378e-09\n",
      "astrophysicist 5.0127342e-09\n",
      "receptionist -1.3493361e-08\n",
      "soldier -6.34948e-09\n",
      "professor -1.1375688e-08\n",
      "teacher 1.8966095e-09\n",
      "pianist 9.13777e-09\n"
     ]
    }
   ],
   "source": [
    "# After debiasing\n",
    "for w in words:\n",
    "    print(w, cosine_similarity(neutralize(w,g5,nlp),g5))"
   ]
  },
  {
   "cell_type": "code",
   "execution_count": 29,
   "metadata": {},
   "outputs": [
    {
     "name": "stdout",
     "output_type": "stream",
     "text": [
      "cosine similarities before equalizing:\n",
      "cosine_similarity('father', gender) =  -0.09100127\n",
      "cosine_similarity('mother', gender) =  0.30725563\n",
      "\n",
      "cosine similarities after equalizing:\n",
      "cosine_similarity(e1, gender) =  -0.5582713\n",
      "cosine_similarity(e2, gender) =  0.5582712\n"
     ]
    }
   ],
   "source": [
    "print(\"cosine similarities before equalizing:\")\n",
    "print(\"cosine_similarity('father', gender) = \", cosine_similarity(get_vector('father'), g5))\n",
    "print(\"cosine_similarity('mother', gender) = \", cosine_similarity(get_vector('mother'), g5))\n",
    "print()\n",
    "e1, e2 = equalize((\"father\", \"mother\"), g5, nlp)\n",
    "print(\"cosine similarities after equalizing:\")\n",
    "print(\"cosine_similarity(e1, gender) = \", cosine_similarity(e1, g5))\n",
    "print(\"cosine_similarity(e2, gender) = \", cosine_similarity(e2, g5))"
   ]
  },
  {
   "cell_type": "code",
   "execution_count": null,
   "metadata": {},
   "outputs": [],
   "source": []
  }
 ],
 "metadata": {
  "kernelspec": {
   "display_name": "Python 3",
   "language": "python",
   "name": "python3"
  },
  "language_info": {
   "codemirror_mode": {
    "name": "ipython",
    "version": 3
   },
   "file_extension": ".py",
   "mimetype": "text/x-python",
   "name": "python",
   "nbconvert_exporter": "python",
   "pygments_lexer": "ipython3",
   "version": "3.7.1"
  }
 },
 "nbformat": 4,
 "nbformat_minor": 2
}
